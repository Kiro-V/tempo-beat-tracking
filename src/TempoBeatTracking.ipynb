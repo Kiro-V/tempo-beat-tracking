{
 "cells": [
  {
   "cell_type": "markdown",
   "metadata": {},
   "source": [
    "# Setting Up Environment\n",
    "```bash\n",
    "$ python -m venv tempo\n",
    "$ source tempo/bin/activate # for linux\n",
    "$ ./tempo/Scripts/activate # for windows\n",
    "$ python.exe -m pip install --upgrade pip # upgrade pip\n",
    "$ pip install -r requirements.txt\n",
    "```"
   ]
  },
  {
   "cell_type": "markdown",
   "metadata": {},
   "source": []
  }
 ],
 "metadata": {
  "kernelspec": {
   "display_name": "tempo",
   "language": "python",
   "name": "python3"
  },
  "language_info": {
   "name": "python",
   "version": "3.10.12"
  }
 },
 "nbformat": 4,
 "nbformat_minor": 2
}
